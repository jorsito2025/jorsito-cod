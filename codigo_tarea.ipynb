{
  "nbformat": 4,
  "nbformat_minor": 0,
  "metadata": {
    "colab": {
      "provenance": [],
      "authorship_tag": "ABX9TyM43rAz2dYATXDjL6FjU/B6",
      "include_colab_link": true
    },
    "kernelspec": {
      "name": "python3",
      "display_name": "Python 3"
    },
    "language_info": {
      "name": "python"
    }
  },
  "cells": [
    {
      "cell_type": "markdown",
      "metadata": {
        "id": "view-in-github",
        "colab_type": "text"
      },
      "source": [
        "<a href=\"https://colab.research.google.com/github/jorsito2025/jorsito-cod/blob/main/codigo_tarea.ipynb\" target=\"_parent\"><img src=\"https://colab.research.google.com/assets/colab-badge.svg\" alt=\"Open In Colab\"/></a>"
      ]
    },
    {
      "cell_type": "code",
      "execution_count": null,
      "metadata": {
        "id": "tVdJGLfW_4QF"
      },
      "outputs": [],
      "source": [
        "class Mascota:\n",
        "    def __init__(self, nombre, especie, edad):\n",
        "        self.nombre = nombre\n",
        "        self.especie = especie\n",
        "        self.edad = edad\n",
        "\n",
        "    def cambiar_nombre(self):\n",
        "        nuevo_nombre = input(f\"Ingrese el nuevo nombre para {self.nombre}: \")\n",
        "        if nuevo_nombre:  # Verificamos que no esté vacío\n",
        "            nombre_anterior = self.nombre\n",
        "            self.nombre = nuevo_nombre\n",
        "            print(f\"El nombre de {nombre_anterior} ha sido cambiado a {self.nombre}.\")\n",
        "        else:\n",
        "            print(\"El nombre no puede estar vacío.\")\n",
        "\n",
        "    def cumplir_anios(self):\n",
        "        incremento_str = input(f\"Ingrese cuántos años ha cumplido {self.nombre}: \")\n",
        "        if incremento_str.isdigit():\n",
        "            incremento = int(incremento_str)\n",
        "            if incremento > 0:\n",
        "                self.edad += incremento\n",
        "                print(f\"{self.nombre} ahora tiene {self.edad} años.\")\n",
        "            else:\n",
        "                print(\"La edad debe incrementarse en un valor positivo.\")\n",
        "        else:\n",
        "            print(\"Entrada inválida. Por favor, ingrese un número para los años.\")\n",
        "\n",
        "# Crear un objeto Mascota pidiendo la información al usuario\n",
        "nombre_mascota = input(\"Ingrese el nombre de su mascota: \")\n",
        "especie_mascota = input(\"Ingrese la especie de su mascota: \")\n",
        "edad_mascota_str = input(\"Ingrese la edad de su mascota: \")\n",
        "\n",
        "if edad_mascota_str.isdigit():\n",
        "    edad_mascota = int(edad_mascota_str)\n",
        "    mi_mascota = Mascota(nombre_mascota, especie_mascota, edad_mascota)\n",
        "\n",
        "    print(\"\\nInformación de la mascota creada:\")\n",
        "    print(f\"Nombre: {mi_mascota.nombre}\")\n",
        "    print(f\"Especie: {mi_mascota.especie}\")\n",
        "    print(f\"Edad: {mi_mascota.edad} años\")\n",
        "\n",
        "    # Llamar a los métodos\n",
        "    mi_mascota.cambiar_nombre()\n",
        "    mi_mascota.cumplir_anios()\n",
        "\n",
        "else:\n",
        "    print(\"Entrada inválida para la edad. El programa no puede continuar.\")"
      ]
    }
  ]
}